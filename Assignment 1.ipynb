{
 "cells": [
  {
   "cell_type": "markdown",
   "metadata": {},
   "source": [
    "# Q.1 Write a Python program to get the 4th element and 4th element from last of a tuple form below tuple\n",
    "Get an item of the tuple tuplex = (\"w\", 3, \"r\", \"e\", \"s\", \"o\", \"u\", \"r\", \"c\", \"e\")"
   ]
  },
  {
   "cell_type": "code",
   "execution_count": 1,
   "metadata": {},
   "outputs": [],
   "source": [
    "a = (\"w\", 3, \"r\", \"e\", \"s\", \"o\", \"u\", \"r\", \"c\", \"e\")\n",
    "\n",
    "print('4th element:',a[3])\n",
    "print('last 4th elemet:',a[-4]) #negative_indexing"
   ]
  },
  {
   "cell_type": "code",
   "execution_count": 2,
   "metadata": {},
   "outputs": [
    {
     "name": "stdout",
     "output_type": "stream",
     "text": [
      "('e', 'u')\n"
     ]
    }
   ],
   "source": [
    "a = (\"w\", 3, \"r\", \"e\", \"s\", \"o\", \"u\", \"r\", \"c\", \"e\") #through slicing\n",
    "print(a[3:7:3]) #start, stop, step"
   ]
  },
  {
   "cell_type": "markdown",
   "metadata": {},
   "source": [
    "# Q.2 Write a Python program to convert a list to a tuple?\n",
    "Convert list to tuple\n",
    "listx = [5, 10, 7, 4, 15, 3]"
   ]
  },
  {
   "cell_type": "code",
   "execution_count": 3,
   "metadata": {},
   "outputs": [
    {
     "name": "stdout",
     "output_type": "stream",
     "text": [
      "(5, 10, 7, 4, 15, 3)\n"
     ]
    }
   ],
   "source": [
    "x = [5, 10, 7, 4, 15, 3]\n",
    "a=tuple(x)   #function\n",
    "print(a)"
   ]
  },
  {
   "cell_type": "markdown",
   "metadata": {},
   "source": [
    "# Q.3 Write a program to unpack the following tuple into four variables and display each variable.\n",
    "Given\n",
    "\n",
    "tuple1 = (10, 20, 30, 40)"
   ]
  },
  {
   "cell_type": "code",
   "execution_count": 4,
   "metadata": {},
   "outputs": [
    {
     "name": "stdout",
     "output_type": "stream",
     "text": [
      "a\n",
      "b\n",
      "c\n",
      "d\n"
     ]
    }
   ],
   "source": [
    "tuple1 = (10, 20, 30, 40)\n",
    "(a, b, c, d) = tuple1 \n",
    "#unpacking\n",
    "print('a')\n",
    "print('b')\n",
    "print('c')\n",
    "print('d')"
   ]
  },
  {
   "cell_type": "code",
   "execution_count": 5,
   "metadata": {},
   "outputs": [
    {
     "name": "stdout",
     "output_type": "stream",
     "text": [
      "(10, 20, 30, 40)\n",
      "100\n"
     ]
    }
   ],
   "source": [
    "tuple1 = (10, 20, 30, 40)\n",
    "print(tuple1)\n",
    "( a, b, c, d )=  tuple1\n",
    "print(a + b + c + d)\n",
    "a, b, c, d = tuple1"
   ]
  },
  {
   "cell_type": "markdown",
   "metadata": {},
   "source": [
    "# Q.4 Write a program to Swap two tuples in Python\n",
    "Given\n",
    "\n",
    "tuple1 = (11, 22)\n",
    "\n",
    "tuple2 = (99, 88)"
   ]
  },
  {
   "cell_type": "code",
   "execution_count": 6,
   "metadata": {},
   "outputs": [
    {
     "name": "stdout",
     "output_type": "stream",
     "text": [
      "(11, 22)\n",
      "(99, 88)\n",
      "\n",
      "\n",
      "tuple1 - after swapping: (99, 88)\n",
      "\n",
      "\n",
      "tuple2 - after swapping: (11, 22)\n"
     ]
    }
   ],
   "source": [
    "tuple1 = (11, 22)\n",
    "tuple2 = (99, 88)\n",
    "print(tuple1)\n",
    "print(tuple2)\n",
    "\n",
    "(tuple1, tuple2) = (tuple2, tuple1) #swapping\n",
    "\n",
    "print(\"\\n\")\n",
    "print(\"tuple1 - after swapping:\",tuple1)\n",
    "print(\"\\n\")\n",
    "print('tuple2 - after swapping:',tuple2)"
   ]
  },
  {
   "cell_type": "markdown",
   "metadata": {},
   "source": [
    "# Q.5 Write a program to copy elements 40 and 50 from the following tuple into a new tuple.\n",
    "Given:\n",
    "\n",
    "tuple1 = (10, 20, 30, 40, 50, 60)\n",
    "\n",
    "Expected output:\n",
    "\n",
    "tuple2: (40, 50)"
   ]
  },
  {
   "cell_type": "code",
   "execution_count": 7,
   "metadata": {},
   "outputs": [
    {
     "name": "stdout",
     "output_type": "stream",
     "text": [
      "(40, 50)\n"
     ]
    }
   ],
   "source": [
    "tuple1 = (10, 20, 30, 40, 50, 60)\n",
    "\n",
    "#tuple1.copy(tuple2[-3:-1])\n",
    "\n",
    "tuple2 = tuple(tuple1[3:5])\n",
    "print(tuple2)"
   ]
  },
  {
   "cell_type": "markdown",
   "metadata": {},
   "source": [
    "# Q.6 Write a python program to Counts the number of occurrences of item 50 from a tuple\n",
    "Given\n",
    "\n",
    "tuple1 = (50, 10, 60, 70, 50)"
   ]
  },
  {
   "cell_type": "code",
   "execution_count": 8,
   "metadata": {},
   "outputs": [
    {
     "name": "stdout",
     "output_type": "stream",
     "text": [
      "tuple converted into a list  [50, 10, 60, 70, 50]\n",
      "50 occured 2 times\n"
     ]
    }
   ],
   "source": [
    "tuple1 = (50, 10, 60, 70, 50)\n",
    "a=list(tuple1)\n",
    "print('tuple converted into a list ',a)\n",
    "print('50 occured',a.count(50),'times')"
   ]
  },
  {
   "cell_type": "code",
   "execution_count": null,
   "metadata": {},
   "outputs": [],
   "source": []
  }
 ],
 "metadata": {
  "kernelspec": {
   "display_name": "Python 3",
   "language": "python",
   "name": "python3"
  },
  "language_info": {
   "codemirror_mode": {
    "name": "ipython",
    "version": 3
   },
   "file_extension": ".py",
   "mimetype": "text/x-python",
   "name": "python",
   "nbconvert_exporter": "python",
   "pygments_lexer": "ipython3",
   "version": "3.8.5"
  }
 },
 "nbformat": 4,
 "nbformat_minor": 4
}
